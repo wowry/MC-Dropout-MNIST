{
 "cells": [
  {
   "cell_type": "markdown",
   "metadata": {},
   "source": [
    "### 参考文献\n",
    "- http://mlg.eng.cam.ac.uk/yarin/thesis/thesis.pdf"
   ]
  },
  {
   "cell_type": "code",
   "execution_count": 1,
   "metadata": {
    "id": "0r2fkHz5fkzW"
   },
   "outputs": [
    {
     "name": "stdout",
     "output_type": "stream",
     "text": [
      "Init Plugin\n",
      "Init Graph Optimizer\n",
      "Init Kernel\n"
     ]
    }
   ],
   "source": [
    "import numpy as np\n",
    "import tensorflow as tf\n",
    "from tensorflow import keras\n",
    "from tensorflow.keras import Model, Sequential, regularizers\n",
    "from tensorflow.keras.layers import Input, Dense, Conv2D, MaxPooling2D, Activation, Dropout, Flatten\n",
    "from tensorflow.keras.datasets import mnist\n",
    "from sklearn.model_selection import train_test_split\n",
    "from tensorflow.keras.optimizers import Adam\n",
    "import matplotlib.pyplot as plt\n",
    "import datetime\n",
    "from PIL import Image\n",
    "import collections\n",
    "import pandas as pd\n",
    "import seaborn as sns\n",
    "from scipy import stats\n",
    "from matplotlib.colors import LinearSegmentedColormap\n",
    "from matplotlib import gridspec\n",
    "import math"
   ]
  },
  {
   "cell_type": "code",
   "execution_count": 2,
   "metadata": {},
   "outputs": [],
   "source": [
    "# plt.rcParams.update(plt.rcParamsDefault)"
   ]
  },
  {
   "cell_type": "markdown",
   "metadata": {},
   "source": [
    "## カラーマップ作成"
   ]
  },
  {
   "cell_type": "code",
   "execution_count": 38,
   "metadata": {},
   "outputs": [],
   "source": [
    "cdict = [None for i in range(3)]\n",
    "color_alpha = [None for i in range(3)]\n",
    "\n",
    "# 3色のカラーコード\n",
    "color_set = [[255, 99, 71], [46, 118, 255], [206, 255, 97]]\n",
    "\n",
    "# 透明度の偏り\n",
    "p = 0.9\n",
    "\n",
    "p_max = 1"
   ]
  },
  {
   "cell_type": "code",
   "execution_count": 39,
   "metadata": {},
   "outputs": [
    {
     "data": {
      "image/png": "[encoded data removed]",
      "text/html": [
       "<div style=\"vertical-align: middle;\"><strong>color0_alpha</strong> </div><div class=\"cmap\"><img alt=\"color0_alpha colormap\" title=\"color0_alpha\" style=\"border: 1px solid #555;\" src=\"data:image/png;base64,iVBORw0KGgoAAAANSUhEUgAAAgAAAABACAYAAABsv8+/AAAAG3RFWHRUaXRsZQBjb2xvcjBfYWxwaGEgY29sb3JtYXAdbPZ7AAAAIXRFWHREZXNjcmlwdGlvbgBjb2xvcjBfYWxwaGEgY29sb3JtYXCf9Rz+AAAAMHRFWHRBdXRob3IATWF0cGxvdGxpYiB2My40LjMsIGh0dHBzOi8vbWF0cGxvdGxpYi5vcmcJXfPTAAAAMnRFWHRTb2Z0d2FyZQBNYXRwbG90bGliIHYzLjQuMywgaHR0cHM6Ly9tYXRwbG90bGliLm9yZyf7bPQAAAE2SURBVHic7daxEUBQAERBzAhQmEL0XwPJz0Ukbze57OI339c5AQCv1rH7T7uNPb74XyYAIEcAAECQAACAIAEAAEECAACCBAAABAkAAAgSAAAQJAAAIEgAAECQAACAIAEAAEECAACCBAAABAkAAAgSAAAQJAAAIEgAAECQAACAIAEAAEECAACCBAAABAkAAAgSAAAQJAAAIEgAAECQAACAIAEAAEECAACCBAAABAkAAAgSAAAQJAAAIEgAAECQAACAIAEAAEECAACCBAAABAkAAAgSAAAQJAAAIEgAAECQAACAIAEAAEECAACCBAAABAkAAAgSAAAQJAAAIEgAAECQAACAIAEAAEECAACCBAAABAkAAAgSAAAQJAAAIEgAAECQAACAIAEAAEECAACCBAAABAkAAAh6AHwnAyimW92EAAAAAElFTkSuQmCC\"></div><div style=\"vertical-align: middle; max-width: 514px; display: flex; justify-content: space-between;\"><div style=\"float: left;\"><div title=\"#ff634700\" style=\"display: inline-block; width: 1em; height: 1em; margin: 0; vertical-align: middle; border: 1px solid #555; background-color: #ff634700;\"></div> under</div><div style=\"margin: 0 auto; display: inline-block;\">bad <div title=\"#00000000\" style=\"display: inline-block; width: 1em; height: 1em; margin: 0; vertical-align: middle; border: 1px solid #555; background-color: #00000000;\"></div></div><div style=\"float: right;\">over <div title=\"#ff6347ff\" style=\"display: inline-block; width: 1em; height: 1em; margin: 0; vertical-align: middle; border: 1px solid #555; background-color: #ff6347ff;\"></div></div>"
      ],
      "text/plain": [
       "<matplotlib.colors.LinearSegmentedColormap at 0x15c51d8e0>"
      ]
     },
     "execution_count": 39,
     "metadata": {},
     "output_type": "execute_result"
    }
   ],
   "source": [
    "color = color_set[0]\n",
    "\n",
    "cdict[0] = {\n",
    "    \"red\": [\n",
    "        (0.0, 0.0, color[0] / 255.),\n",
    "        (1.0, color[0] / 255., 1.0),\n",
    "    ],\n",
    "    \"green\": [\n",
    "        (0.0, 0.0, color[1] / 255.),\n",
    "        (1.0, color[1] / 255., 0.0),\n",
    "    ],\n",
    "    \"blue\": [\n",
    "        (0.0, 0.0, color[2] / 255.),\n",
    "        (1.0, color[2] / 255., 0.0),\n",
    "    ],\n",
    "    \"alpha\": [\n",
    "        (0.0, 0.0, 0.0),\n",
    "        (p, 0.0, 0.0),\n",
    "        (1.0, p_max, 1.0),\n",
    "    ]\n",
    "}\n",
    "\n",
    "color_alpha[0] = LinearSegmentedColormap('color0_alpha', cdict[0])\n",
    "color_alpha[0]"
   ]
  },
  {
   "cell_type": "code",
   "execution_count": 40,
   "metadata": {},
   "outputs": [
    {
     "data": {
      "image/png": "[encoded data removed]",
      "text/html": [
       "<div style=\"vertical-align: middle;\"><strong>color1_alpha</strong> </div><div class=\"cmap\"><img alt=\"color1_alpha colormap\" title=\"color1_alpha\" style=\"border: 1px solid #555;\" src=\"data:image/png;base64,iVBORw0KGgoAAAANSUhEUgAAAgAAAABACAYAAABsv8+/AAAAG3RFWHRUaXRsZQBjb2xvcjFfYWxwaGEgY29sb3JtYXCzBGfqAAAAIXRFWHREZXNjcmlwdGlvbgBjb2xvcjFfYWxwaGEgY29sb3JtYXAxnY1vAAAAMHRFWHRBdXRob3IATWF0cGxvdGxpYiB2My40LjMsIGh0dHBzOi8vbWF0cGxvdGxpYi5vcmcJXfPTAAAAMnRFWHRTb2Z0d2FyZQBNYXRwbG90bGliIHYzLjQuMywgaHR0cHM6Ly9tYXRwbG90bGliLm9yZyf7bPQAAAE0SURBVHic7dYhFkBQAERRnCNgL5Zn+5TfJcq7t0yb/ObzuicA4NU6dv9pt7HHF//LBADkCAAACBIAABAkAAAgSAAAQJAAAIAgAQAAQQIAAIIEAAAECQAACBIAABAkAAAgSAAAQJAAAIAgAQAAQQIAAIIEAAAECQAACBIAABAkAAAgSAAAQJAAAIAgAQAAQQIAAIIEAAAECQAACBIAABAkAAAgSAAAQJAAAIAgAQAAQQIAAIIEAAAECQAACBIAABAkAAAgSAAAQJAAAIAgAQAAQQIAAIIEAAAECQAACBIAABAkAAAgSAAAQJAAAIAgAQAAQQIAAIIEAAAECQAACBIAABAkAAAgSAAAQJAAAIAgAQAAQQIAAIIEAAAECQAACBIAABAkAAAgSAAAQJAAAIAgAQAAQQ94dgMijHRvJQAAAABJRU5ErkJggg==\"></div><div style=\"vertical-align: middle; max-width: 514px; display: flex; justify-content: space-between;\"><div style=\"float: left;\"><div title=\"#2e76ff00\" style=\"display: inline-block; width: 1em; height: 1em; margin: 0; vertical-align: middle; border: 1px solid #555; background-color: #2e76ff00;\"></div> under</div><div style=\"margin: 0 auto; display: inline-block;\">bad <div title=\"#00000000\" style=\"display: inline-block; width: 1em; height: 1em; margin: 0; vertical-align: middle; border: 1px solid #555; background-color: #00000000;\"></div></div><div style=\"float: right;\">over <div title=\"#2e76ffff\" style=\"display: inline-block; width: 1em; height: 1em; margin: 0; vertical-align: middle; border: 1px solid #555; background-color: #2e76ffff;\"></div></div>"
      ],
      "text/plain": [
       "<matplotlib.colors.LinearSegmentedColormap at 0x168250910>"
      ]
     },
     "execution_count": 40,
     "metadata": {},
     "output_type": "execute_result"
    }
   ],
   "source": [
    "color = color_set[1]\n",
    "\n",
    "cdict[1] = {\n",
    "    \"red\": [\n",
    "        (0.0, 0.0, color[0] / 255.),\n",
    "        (1.0, color[0] / 255., 1.0),\n",
    "    ],\n",
    "    \"green\": [\n",
    "        (0.0, 0.0, color[1] / 255.),\n",
    "        (1.0, color[1] / 255., 0.0),\n",
    "    ],\n",
    "    \"blue\": [\n",
    "        (0.0, 0.0, color[2] / 255.),\n",
    "        (1.0, color[2] / 255., 0.0),\n",
    "    ],\n",
    "    \"alpha\": [\n",
    "        (0.0, 0.0, 0.0),\n",
    "        (p, 0.0, 0.0),\n",
    "        (1.0, p_max, 1.0),\n",
    "    ]\n",
    "}\n",
    "\n",
    "color_alpha[1] = LinearSegmentedColormap('color1_alpha', cdict[1])\n",
    "color_alpha[1]"
   ]
  },
  {
   "cell_type": "code",
   "execution_count": 41,
   "metadata": {},
   "outputs": [
    {
     "data": {
      "image/png": "[encoded data removed]",
      "text/html": [
       "<div style=\"vertical-align: middle;\"><strong>color2_alpha</strong> </div><div class=\"cmap\"><img alt=\"color2_alpha colormap\" title=\"color2_alpha\" style=\"border: 1px solid #555;\" src=\"data:image/png;base64,iVBORw0KGgoAAAANSUhEUgAAAgAAAABACAYAAABsv8+/AAAAG3RFWHRUaXRsZQBjb2xvcjJfYWxwaGEgY29sb3JtYXCazNMYAAAAIXRFWHREZXNjcmlwdGlvbgBjb2xvcjJfYWxwaGEgY29sb3JtYXAYVTmdAAAAMHRFWHRBdXRob3IATWF0cGxvdGxpYiB2My40LjMsIGh0dHBzOi8vbWF0cGxvdGxpYi5vcmcJXfPTAAAAMnRFWHRTb2Z0d2FyZQBNYXRwbG90bGliIHYzLjQuMywgaHR0cHM6Ly9tYXRwbG90bGliLm9yZyf7bPQAAAE0SURBVHic7dYhFkBQAERRnCNglTZsS5TfJcq7t0yb/ObrPicA4NU6dv9pt7HHF//LBADkCAAACBIAABAkAAAgSAAAQJAAAIAgAQAAQQIAAIIEAAAECQAACBIAABAkAAAgSAAAQJAAAIAgAQAAQQIAAIIEAAAECQAACBIAABAkAAAgSAAAQJAAAIAgAQAAQQIAAIIEAAAECQAACBIAABAkAAAgSAAAQJAAAIAgAQAAQQIAAIIEAAAECQAACBIAABAkAAAgSAAAQJAAAIAgAQAAQQIAAIIEAAAECQAACBIAABAkAAAgSAAAQJAAAIAgAQAAQQIAAIIEAAAECQAACBIAABAkAAAgSAAAQJAAAIAgAQAAQQIAAIIEAAAECQAACBIAABAkAAAgSAAAQJAAAIAgAQAAQQ+rqAOtU1iBvwAAAABJRU5ErkJggg==\"></div><div style=\"vertical-align: middle; max-width: 514px; display: flex; justify-content: space-between;\"><div style=\"float: left;\"><div title=\"#ceff6100\" style=\"display: inline-block; width: 1em; height: 1em; margin: 0; vertical-align: middle; border: 1px solid #555; background-color: #ceff6100;\"></div> under</div><div style=\"margin: 0 auto; display: inline-block;\">bad <div title=\"#00000000\" style=\"display: inline-block; width: 1em; height: 1em; margin: 0; vertical-align: middle; border: 1px solid #555; background-color: #00000000;\"></div></div><div style=\"float: right;\">over <div title=\"#ceff61ff\" style=\"display: inline-block; width: 1em; height: 1em; margin: 0; vertical-align: middle; border: 1px solid #555; background-color: #ceff61ff;\"></div></div>"
      ],
      "text/plain": [
       "<matplotlib.colors.LinearSegmentedColormap at 0x168258100>"
      ]
     },
     "execution_count": 41,
     "metadata": {},
     "output_type": "execute_result"
    }
   ],
   "source": [
    "color = color_set[2]\n",
    "\n",
    "cdict[2] = {\n",
    "    \"red\": [\n",
    "        (0.0, 0.0, color[0] / 255.),\n",
    "        (1.0, color[0] / 255., 1.0),\n",
    "    ],\n",
    "    \"green\": [\n",
    "        (0.0, 0.0, color[1] / 255.),\n",
    "        (1.0, color[1] / 255., 0.0),\n",
    "    ],\n",
    "    \"blue\": [\n",
    "        (0.0, 0.0, color[2] / 255.),\n",
    "        (1.0, color[2] / 255., 0.0),\n",
    "    ],\n",
    "    \"alpha\": [\n",
    "        (0.0, 0.0, 0.0),\n",
    "        (p, 0.0, 0.0),\n",
    "        (1.0, p_max, 1.0),\n",
    "    ]\n",
    "}\n",
    "\n",
    "color_alpha[2] = LinearSegmentedColormap('color2_alpha', cdict[2])\n",
    "color_alpha[2]"
   ]
  },
  {
   "cell_type": "code",
   "execution_count": 42,
   "metadata": {
    "scrolled": false
   },
   "outputs": [],
   "source": [
    "# X = np.arange(start=0, stop=1, step=0.01)\n",
    "\n",
    "# x1 = stats.norm.pdf(x=X, loc=0.6, scale=0.4)\n",
    "# x2 = stats.norm.pdf(x=X, loc=0.2, scale=0.1)\n",
    "\n",
    "# plt.figure(figsize=(10, 2))\n",
    "# sns.heatmap([x1], cmap=color_alpha[0])\n",
    "# sns.heatmap([x2], cmap=color_alpha[1])\n",
    "# plt.show()"
   ]
  },
  {
   "cell_type": "markdown",
   "metadata": {},
   "source": [
    "## データセット作成\n",
    "訓練データ 50000、検証データ 10000、テストデータ 10000"
   ]
  },
  {
   "cell_type": "code",
   "execution_count": 12,
   "metadata": {},
   "outputs": [],
   "source": [
    "(x_train_valid, y_train_valid), (x_test, y_test) = mnist.load_data()\n",
    "\n",
    "x_train, x_valid, y_train, y_valid = train_test_split(x_train_valid, y_train_valid, test_size=10000)\n",
    "\n",
    "x_train = x_train.reshape((-1, 28, 28, 1)) / 255.\n",
    "x_valid = x_valid.reshape((-1, 28, 28, 1)) / 255.\n",
    "x_test = x_test.reshape((-1, 28, 28, 1)) / 255.\n",
    "\n",
    "# one-hot vectorに変換\n",
    "y_train = keras.utils.to_categorical(y_train, 10)\n",
    "y_valid = keras.utils.to_categorical(y_valid, 10)\n",
    "y_test = keras.utils.to_categorical(y_test, 10)"
   ]
  },
  {
   "cell_type": "markdown",
   "metadata": {},
   "source": [
    "## モデル構築"
   ]
  },
  {
   "cell_type": "code",
   "execution_count": 13,
   "metadata": {
    "id": "Egz-YbIKqdIg"
   },
   "outputs": [],
   "source": [
    "# L2 = 0.01\n",
    "DROPOUT_RATE = 0.5\n",
    "activation = \"relu\""
   ]
  },
  {
   "cell_type": "markdown",
   "metadata": {},
   "source": [
    "最終のFC層の手前にドロップアウトを配置"
   ]
  },
  {
   "cell_type": "code",
   "execution_count": 14,
   "metadata": {
    "scrolled": true
   },
   "outputs": [
    {
     "name": "stdout",
     "output_type": "stream",
     "text": [
      "Metal device set to: Apple M1\n",
      "Model: \"model\"\n",
      "_________________________________________________________________\n",
      "Layer (type)                 Output Shape              Param #   \n",
      "=================================================================\n",
      "input_1 (InputLayer)         [(None, 28, 28, 1)]       0         \n",
      "_________________________________________________________________\n",
      "conv2d (Conv2D)              (None, 26, 26, 32)        320       \n",
      "_________________________________________________________________\n",
      "max_pooling2d (MaxPooling2D) (None, 13, 13, 32)        0         \n",
      "_________________________________________________________________\n",
      "flatten (Flatten)            (None, 5408)              0         \n",
      "_________________________________________________________________\n",
      "dense (Dense)                (None, 128)               692352    \n",
      "_________________________________________________________________\n",
      "dropout (Dropout)            (None, 128)               0         \n",
      "_________________________________________________________________\n",
      "dense_1 (Dense)              (None, 10)                1290      \n",
      "=================================================================\n",
      "Total params: 693,962\n",
      "Trainable params: 693,962\n",
      "Non-trainable params: 0\n",
      "_________________________________________________________________\n"
     ]
    },
    {
     "name": "stderr",
     "output_type": "stream",
     "text": [
      "2021-11-24 04:18:03.403146: I tensorflow/core/common_runtime/pluggable_device/pluggable_device_factory.cc:305] Could not identify NUMA node of platform GPU ID 0, defaulting to 0. Your kernel may not have been built with NUMA support.\n",
      "2021-11-24 04:18:03.403763: I tensorflow/core/common_runtime/pluggable_device/pluggable_device_factory.cc:271] Created TensorFlow device (/job:localhost/replica:0/task:0/device:GPU:0 with 0 MB memory) -> physical PluggableDevice (device: 0, name: METAL, pci bus id: <undefined>)\n"
     ]
    }
   ],
   "source": [
    "inputs = Input(shape=(28, 28, 1))\n",
    "x = Conv2D(32, 3, activation=activation)(inputs)\n",
    "x = MaxPooling2D(2)(x)\n",
    "x = Flatten()(x)\n",
    "x = Dense(128, activation=activation)(x)\n",
    "x = Dropout(DROPOUT_RATE)(x, training=True) # training=True -> MC-Dropout\n",
    "outputs = Dense(10, activation='softmax')(x)\n",
    "\n",
    "model = Model(inputs=inputs, outputs=outputs)\n",
    "model.summary()"
   ]
  },
  {
   "cell_type": "code",
   "execution_count": 15,
   "metadata": {
    "scrolled": true
   },
   "outputs": [
    {
     "data": {
      "image/png": "[encoded data removed]",
      "text/plain": [
       "<IPython.core.display.Image object>"
      ]
     },
     "execution_count": 15,
     "metadata": {},
     "output_type": "execute_result"
    }
   ],
   "source": [
    "keras.utils.plot_model(model, show_shapes=True, show_layer_names=True, to_file='model.png')"
   ]
  },
  {
   "cell_type": "code",
   "execution_count": 16,
   "metadata": {
    "id": "QhydyB8jZxJo"
   },
   "outputs": [],
   "source": [
    "model.compile(loss='categorical_crossentropy',\n",
    "              optimizer=\"adam\",\n",
    "              metrics=['accuracy'])"
   ]
  },
  {
   "cell_type": "markdown",
   "metadata": {},
   "source": [
    "## 学習"
   ]
  },
  {
   "cell_type": "code",
   "execution_count": 17,
   "metadata": {
    "colab": {
     "base_uri": "https://localhost:8080/"
    },
    "id": "MNVPl0pu3BVw",
    "outputId": "af4cfc65-500b-4f76-9429-2af3be8ccc38",
    "scrolled": true
   },
   "outputs": [
    {
     "name": "stderr",
     "output_type": "stream",
     "text": [
      "2021-11-24 04:18:15.578540: I tensorflow/compiler/mlir/mlir_graph_optimization_pass.cc:176] None of the MLIR Optimization Passes are enabled (registered 2)\n",
      "2021-11-24 04:18:15.581890: W tensorflow/core/platform/profile_utils/cpu_utils.cc:128] Failed to get CPU frequency: 0 Hz\n",
      "2021-11-24 04:18:15.731428: I tensorflow/core/grappler/optimizers/custom_graph_optimizer_registry.cc:112] Plugin optimizer for device_type GPU is enabled.\n"
     ]
    },
    {
     "name": "stdout",
     "output_type": "stream",
     "text": [
      "Epoch 1/20\n",
      "1563/1563 [==============================] - ETA: 0s - loss: 0.2635 - accuracy: 0.9198"
     ]
    },
    {
     "name": "stderr",
     "output_type": "stream",
     "text": [
      "2021-11-24 04:18:28.006967: I tensorflow/core/grappler/optimizers/custom_graph_optimizer_registry.cc:112] Plugin optimizer for device_type GPU is enabled.\n"
     ]
    },
    {
     "name": "stdout",
     "output_type": "stream",
     "text": [
      "1563/1563 [==============================] - 14s 9ms/step - loss: 0.2635 - accuracy: 0.9198 - val_loss: 0.1412 - val_accuracy: 0.9553\n",
      "Epoch 2/20\n",
      "1563/1563 [==============================] - 14s 9ms/step - loss: 0.1071 - accuracy: 0.9684 - val_loss: 0.1148 - val_accuracy: 0.9671\n",
      "Epoch 3/20\n",
      "1563/1563 [==============================] - 13s 9ms/step - loss: 0.0850 - accuracy: 0.9747 - val_loss: 0.0882 - val_accuracy: 0.9733\n",
      "Epoch 4/20\n",
      "1563/1563 [==============================] - 13s 9ms/step - loss: 0.0681 - accuracy: 0.9791 - val_loss: 0.0949 - val_accuracy: 0.9711\n",
      "Epoch 5/20\n",
      "1563/1563 [==============================] - 13s 8ms/step - loss: 0.0570 - accuracy: 0.9823 - val_loss: 0.0934 - val_accuracy: 0.9729\n",
      "Epoch 6/20\n",
      "1563/1563 [==============================] - 13s 8ms/step - loss: 0.0492 - accuracy: 0.9843 - val_loss: 0.0780 - val_accuracy: 0.9770\n",
      "Epoch 7/20\n",
      "1563/1563 [==============================] - 12s 8ms/step - loss: 0.0415 - accuracy: 0.9863 - val_loss: 0.0793 - val_accuracy: 0.9773\n",
      "Epoch 8/20\n",
      "1563/1563 [==============================] - 12s 8ms/step - loss: 0.0351 - accuracy: 0.9888 - val_loss: 0.0766 - val_accuracy: 0.9771\n",
      "Epoch 9/20\n",
      "1563/1563 [==============================] - 13s 8ms/step - loss: 0.0324 - accuracy: 0.9898 - val_loss: 0.0800 - val_accuracy: 0.9772\n",
      "Epoch 10/20\n",
      "1563/1563 [==============================] - 13s 8ms/step - loss: 0.0287 - accuracy: 0.9902 - val_loss: 0.0807 - val_accuracy: 0.9802\n",
      "Epoch 11/20\n",
      "1563/1563 [==============================] - 13s 8ms/step - loss: 0.0281 - accuracy: 0.9905 - val_loss: 0.0767 - val_accuracy: 0.9814\n",
      "Epoch 12/20\n",
      "1563/1563 [==============================] - 12s 8ms/step - loss: 0.0245 - accuracy: 0.9921 - val_loss: 0.0845 - val_accuracy: 0.9770\n",
      "Epoch 13/20\n",
      "1563/1563 [==============================] - 13s 8ms/step - loss: 0.0217 - accuracy: 0.9927 - val_loss: 0.0882 - val_accuracy: 0.9801\n",
      "Epoch 14/20\n",
      "1563/1563 [==============================] - 13s 8ms/step - loss: 0.0213 - accuracy: 0.9929 - val_loss: 0.0821 - val_accuracy: 0.9815\n",
      "Epoch 15/20\n",
      "1563/1563 [==============================] - 12s 8ms/step - loss: 0.0182 - accuracy: 0.9940 - val_loss: 0.0816 - val_accuracy: 0.9808\n",
      "Epoch 16/20\n",
      "1563/1563 [==============================] - 13s 8ms/step - loss: 0.0166 - accuracy: 0.9944 - val_loss: 0.0849 - val_accuracy: 0.9823\n",
      "Epoch 17/20\n",
      "1563/1563 [==============================] - 13s 8ms/step - loss: 0.0161 - accuracy: 0.9944 - val_loss: 0.0958 - val_accuracy: 0.9812\n",
      "Epoch 18/20\n",
      "1563/1563 [==============================] - 13s 8ms/step - loss: 0.0156 - accuracy: 0.9946 - val_loss: 0.0824 - val_accuracy: 0.9823\n",
      "Epoch 19/20\n",
      "1563/1563 [==============================] - 13s 8ms/step - loss: 0.0151 - accuracy: 0.9947 - val_loss: 0.0848 - val_accuracy: 0.9834\n",
      "Epoch 20/20\n",
      "1563/1563 [==============================] - 13s 8ms/step - loss: 0.0151 - accuracy: 0.9951 - val_loss: 0.0912 - val_accuracy: 0.9815\n",
      "CPU times: user 3min 17s, sys: 2min 25s, total: 5min 42s\n",
      "Wall time: 4min 18s\n"
     ]
    }
   ],
   "source": [
    "%%time\n",
    "history = model.fit(x_train, y_train,\n",
    "                    batch_size=32,\n",
    "                    epochs=20,\n",
    "                    verbose=1,\n",
    "                   validation_data = (x_valid, y_valid))"
   ]
  },
  {
   "cell_type": "code",
   "execution_count": 18,
   "metadata": {
    "colab": {
     "base_uri": "https://localhost:8080/",
     "height": 573
    },
    "id": "fBIObUTwZ2-w",
    "outputId": "eb527b94-49a4-4d09-ac89-f3f7859c0f22",
    "scrolled": false
   },
   "outputs": [
    {
     "data": {
      "image/png": "[encoded data removed]",
      "text/plain": [
       "<Figure size 432x288 with 1 Axes>"
      ]
     },
     "metadata": {
      "needs_background": "light"
     },
     "output_type": "display_data"
    },
    {
     "data": {
      "image/png": "[encoded data removed]",
      "text/plain": [
       "<Figure size 432x288 with 1 Axes>"
      ]
     },
     "metadata": {
      "needs_background": "light"
     },
     "output_type": "display_data"
    }
   ],
   "source": [
    "# 精度のplot\n",
    "plt.plot(history.history['accuracy'], marker='.', label='acc')\n",
    "plt.plot(history.history['val_accuracy'], marker='.', label='val_acc')\n",
    "plt.title('model accuracy')\n",
    "plt.grid()\n",
    "plt.xlabel('epoch')\n",
    "plt.ylabel('accuracy')\n",
    "plt.legend(loc='best')\n",
    "plt.show()\n",
    "\n",
    "# 損失のplot\n",
    "plt.plot(history.history['loss'], marker='.', label='loss')\n",
    "plt.plot(history.history['val_loss'], marker='.', label='val_loss')\n",
    "plt.title('model loss')\n",
    "plt.grid()\n",
    "plt.xlabel('epoch')\n",
    "plt.ylabel('loss')\n",
    "plt.legend(loc='best')\n",
    "plt.show()"
   ]
  },
  {
   "cell_type": "markdown",
   "metadata": {},
   "source": [
    "## 予測（MC-Dropout）"
   ]
  },
  {
   "cell_type": "markdown",
   "metadata": {},
   "source": [
    "T回予測の平均と標準偏差を求める"
   ]
  },
  {
   "cell_type": "code",
   "execution_count": 19,
   "metadata": {},
   "outputs": [],
   "source": [
    "T = 100"
   ]
  },
  {
   "cell_type": "code",
   "execution_count": 20,
   "metadata": {},
   "outputs": [
    {
     "name": "stderr",
     "output_type": "stream",
     "text": [
      "2021-11-24 06:41:31.880993: I tensorflow/core/grappler/optimizers/custom_graph_optimizer_registry.cc:112] Plugin optimizer for device_type GPU is enabled.\n"
     ]
    },
    {
     "name": "stdout",
     "output_type": "stream",
     "text": [
      "CPU times: user 29.4 s, sys: 25.7 s, total: 55 s\n",
      "Wall time: 56.3 s\n"
     ]
    }
   ],
   "source": [
    "%%time\n",
    "y_pred_result = []\n",
    "\n",
    "for t in range(T):\n",
    "    y_pred = model.predict(x_test)\n",
    "    y_pred_result.append(y_pred)\n",
    "\n",
    "y_pred_result = np.array(y_pred_result)\n",
    "y_pred_result = y_pred_result.transpose(2, 1, 0)"
   ]
  },
  {
   "cell_type": "code",
   "execution_count": 21,
   "metadata": {},
   "outputs": [
    {
     "data": {
      "text/plain": [
       "(10, 10000, 100)"
      ]
     },
     "execution_count": 21,
     "metadata": {},
     "output_type": "execute_result"
    }
   ],
   "source": [
    "y_pred_result.shape"
   ]
  },
  {
   "cell_type": "code",
   "execution_count": 22,
   "metadata": {},
   "outputs": [
    {
     "data": {
      "text/html": [
       "<div>\n",
       "<style scoped>\n",
       "    .dataframe tbody tr th:only-of-type {\n",
       "        vertical-align: middle;\n",
       "    }\n",
       "\n",
       "    .dataframe tbody tr th {\n",
       "        vertical-align: top;\n",
       "    }\n",
       "\n",
       "    .dataframe thead th {\n",
       "        text-align: right;\n",
       "    }\n",
       "</style>\n",
       "<table border=\"1\" class=\"dataframe\">\n",
       "  <thead>\n",
       "    <tr style=\"text-align: right;\">\n",
       "      <th></th>\n",
       "    </tr>\n",
       "  </thead>\n",
       "  <tbody>\n",
       "  </tbody>\n",
       "</table>\n",
       "</div>"
      ],
      "text/plain": [
       "Empty DataFrame\n",
       "Columns: []\n",
       "Index: []"
      ]
     },
     "execution_count": 22,
     "metadata": {},
     "output_type": "execute_result"
    }
   ],
   "source": [
    "df_mean = pd.DataFrame()\n",
    "df_std = pd.DataFrame()\n",
    "df_mean"
   ]
  },
  {
   "cell_type": "code",
   "execution_count": 23,
   "metadata": {
    "scrolled": true
   },
   "outputs": [],
   "source": [
    "# 0 ~ 9について\n",
    "for i, num_pred in enumerate(y_pred_result):\n",
    "    pred_mean_list = []\n",
    "    pred_std_list = []\n",
    "    \n",
    "    # 10000個のテストデータについて\n",
    "    for y_pred in num_pred:    \n",
    "        # T回の予測の平均・標準偏差\n",
    "        pred_mean = np.mean(y_pred)\n",
    "        pred_std  = np.std(y_pred)\n",
    "        \n",
    "        pred_mean_list.append(pred_mean)\n",
    "        pred_std_list.append(pred_std)\n",
    "    \n",
    "    df_mean_tmp = pd.DataFrame(data=pred_mean_list, columns=[f\"mean_{i}\"])\n",
    "    df_std_tmp = pd.DataFrame(data=pred_std_list, columns=[f\"std_{i}\"])\n",
    "    \n",
    "    df_mean = pd.concat([df_mean, df_mean_tmp], axis=1)\n",
    "    df_std = pd.concat([df_std, df_std_tmp], axis=1)"
   ]
  },
  {
   "cell_type": "markdown",
   "metadata": {},
   "source": [
    "### T回予測の平均"
   ]
  },
  {
   "cell_type": "code",
   "execution_count": 24,
   "metadata": {},
   "outputs": [
    {
     "data": {
      "text/html": [
       "<div>\n",
       "<style scoped>\n",
       "    .dataframe tbody tr th:only-of-type {\n",
       "        vertical-align: middle;\n",
       "    }\n",
       "\n",
       "    .dataframe tbody tr th {\n",
       "        vertical-align: top;\n",
       "    }\n",
       "\n",
       "    .dataframe thead th {\n",
       "        text-align: right;\n",
       "    }\n",
       "</style>\n",
       "<table border=\"1\" class=\"dataframe\">\n",
       "  <thead>\n",
       "    <tr style=\"text-align: right;\">\n",
       "      <th></th>\n",
       "      <th>mean_0</th>\n",
       "      <th>mean_1</th>\n",
       "      <th>mean_2</th>\n",
       "      <th>mean_3</th>\n",
       "      <th>mean_4</th>\n",
       "      <th>mean_5</th>\n",
       "      <th>mean_6</th>\n",
       "      <th>mean_7</th>\n",
       "      <th>mean_8</th>\n",
       "      <th>mean_9</th>\n",
       "    </tr>\n",
       "  </thead>\n",
       "  <tbody>\n",
       "    <tr>\n",
       "      <th>0</th>\n",
       "      <td>7.330849e-09</td>\n",
       "      <td>1.105189e-04</td>\n",
       "      <td>7.029428e-05</td>\n",
       "      <td>2.175564e-05</td>\n",
       "      <td>8.088915e-07</td>\n",
       "      <td>2.848301e-10</td>\n",
       "      <td>4.788756e-12</td>\n",
       "      <td>9.997936e-01</td>\n",
       "      <td>2.953955e-06</td>\n",
       "      <td>3.305001e-08</td>\n",
       "    </tr>\n",
       "    <tr>\n",
       "      <th>1</th>\n",
       "      <td>9.536904e-08</td>\n",
       "      <td>1.492924e-06</td>\n",
       "      <td>9.984221e-01</td>\n",
       "      <td>1.684502e-07</td>\n",
       "      <td>4.432419e-10</td>\n",
       "      <td>4.169798e-10</td>\n",
       "      <td>1.576168e-03</td>\n",
       "      <td>2.743464e-10</td>\n",
       "      <td>1.357522e-09</td>\n",
       "      <td>1.490806e-11</td>\n",
       "    </tr>\n",
       "    <tr>\n",
       "      <th>2</th>\n",
       "      <td>4.810072e-07</td>\n",
       "      <td>9.999717e-01</td>\n",
       "      <td>1.603295e-05</td>\n",
       "      <td>1.550646e-06</td>\n",
       "      <td>2.418916e-06</td>\n",
       "      <td>1.594180e-08</td>\n",
       "      <td>2.861927e-06</td>\n",
       "      <td>3.100115e-06</td>\n",
       "      <td>1.470771e-06</td>\n",
       "      <td>3.670280e-07</td>\n",
       "    </tr>\n",
       "    <tr>\n",
       "      <th>3</th>\n",
       "      <td>9.994450e-01</td>\n",
       "      <td>7.806916e-08</td>\n",
       "      <td>4.887049e-07</td>\n",
       "      <td>4.611235e-09</td>\n",
       "      <td>9.574636e-05</td>\n",
       "      <td>5.178439e-08</td>\n",
       "      <td>3.229228e-05</td>\n",
       "      <td>4.246706e-04</td>\n",
       "      <td>6.666692e-07</td>\n",
       "      <td>1.071326e-06</td>\n",
       "    </tr>\n",
       "    <tr>\n",
       "      <th>4</th>\n",
       "      <td>2.024636e-07</td>\n",
       "      <td>4.661611e-07</td>\n",
       "      <td>2.528232e-08</td>\n",
       "      <td>2.721788e-10</td>\n",
       "      <td>9.999800e-01</td>\n",
       "      <td>4.823867e-07</td>\n",
       "      <td>8.048660e-07</td>\n",
       "      <td>2.713440e-07</td>\n",
       "      <td>9.160684e-08</td>\n",
       "      <td>1.773886e-05</td>\n",
       "    </tr>\n",
       "    <tr>\n",
       "      <th>...</th>\n",
       "      <td>...</td>\n",
       "      <td>...</td>\n",
       "      <td>...</td>\n",
       "      <td>...</td>\n",
       "      <td>...</td>\n",
       "      <td>...</td>\n",
       "      <td>...</td>\n",
       "      <td>...</td>\n",
       "      <td>...</td>\n",
       "      <td>...</td>\n",
       "    </tr>\n",
       "    <tr>\n",
       "      <th>9995</th>\n",
       "      <td>8.337526e-12</td>\n",
       "      <td>1.156493e-06</td>\n",
       "      <td>9.999828e-01</td>\n",
       "      <td>1.473503e-05</td>\n",
       "      <td>6.494559e-11</td>\n",
       "      <td>1.264516e-09</td>\n",
       "      <td>1.336204e-13</td>\n",
       "      <td>1.035866e-06</td>\n",
       "      <td>2.242661e-07</td>\n",
       "      <td>6.133793e-11</td>\n",
       "    </tr>\n",
       "    <tr>\n",
       "      <th>9996</th>\n",
       "      <td>6.629192e-04</td>\n",
       "      <td>3.432890e-07</td>\n",
       "      <td>3.209111e-05</td>\n",
       "      <td>9.992931e-01</td>\n",
       "      <td>5.460402e-10</td>\n",
       "      <td>3.468958e-07</td>\n",
       "      <td>4.812936e-09</td>\n",
       "      <td>1.045524e-05</td>\n",
       "      <td>1.316785e-07</td>\n",
       "      <td>7.093527e-07</td>\n",
       "    </tr>\n",
       "    <tr>\n",
       "      <th>9997</th>\n",
       "      <td>2.393126e-13</td>\n",
       "      <td>4.321490e-08</td>\n",
       "      <td>4.165102e-12</td>\n",
       "      <td>4.676096e-15</td>\n",
       "      <td>9.999984e-01</td>\n",
       "      <td>1.026005e-09</td>\n",
       "      <td>7.542097e-11</td>\n",
       "      <td>1.572429e-08</td>\n",
       "      <td>1.543164e-06</td>\n",
       "      <td>4.918705e-09</td>\n",
       "    </tr>\n",
       "    <tr>\n",
       "      <th>9998</th>\n",
       "      <td>2.679512e-07</td>\n",
       "      <td>7.727045e-09</td>\n",
       "      <td>1.501090e-07</td>\n",
       "      <td>1.293727e-04</td>\n",
       "      <td>1.138250e-07</td>\n",
       "      <td>9.985896e-01</td>\n",
       "      <td>1.214033e-05</td>\n",
       "      <td>6.537236e-06</td>\n",
       "      <td>1.261593e-03</td>\n",
       "      <td>2.771512e-07</td>\n",
       "    </tr>\n",
       "    <tr>\n",
       "      <th>9999</th>\n",
       "      <td>2.675121e-08</td>\n",
       "      <td>4.798330e-09</td>\n",
       "      <td>1.026111e-05</td>\n",
       "      <td>5.017874e-11</td>\n",
       "      <td>4.013426e-09</td>\n",
       "      <td>2.242313e-08</td>\n",
       "      <td>9.999897e-01</td>\n",
       "      <td>3.036772e-20</td>\n",
       "      <td>1.781138e-08</td>\n",
       "      <td>3.501334e-11</td>\n",
       "    </tr>\n",
       "  </tbody>\n",
       "</table>\n",
       "<p>10000 rows × 10 columns</p>\n",
       "</div>"
      ],
      "text/plain": [
       "            mean_0        mean_1        mean_2        mean_3        mean_4  \\\n",
       "0     7.330849e-09  1.105189e-04  7.029428e-05  2.175564e-05  8.088915e-07   \n",
       "1     9.536904e-08  1.492924e-06  9.984221e-01  1.684502e-07  4.432419e-10   \n",
       "2     4.810072e-07  9.999717e-01  1.603295e-05  1.550646e-06  2.418916e-06   \n",
       "3     9.994450e-01  7.806916e-08  4.887049e-07  4.611235e-09  9.574636e-05   \n",
       "4     2.024636e-07  4.661611e-07  2.528232e-08  2.721788e-10  9.999800e-01   \n",
       "...            ...           ...           ...           ...           ...   \n",
       "9995  8.337526e-12  1.156493e-06  9.999828e-01  1.473503e-05  6.494559e-11   \n",
       "9996  6.629192e-04  3.432890e-07  3.209111e-05  9.992931e-01  5.460402e-10   \n",
       "9997  2.393126e-13  4.321490e-08  4.165102e-12  4.676096e-15  9.999984e-01   \n",
       "9998  2.679512e-07  7.727045e-09  1.501090e-07  1.293727e-04  1.138250e-07   \n",
       "9999  2.675121e-08  4.798330e-09  1.026111e-05  5.017874e-11  4.013426e-09   \n",
       "\n",
       "            mean_5        mean_6        mean_7        mean_8        mean_9  \n",
       "0     2.848301e-10  4.788756e-12  9.997936e-01  2.953955e-06  3.305001e-08  \n",
       "1     4.169798e-10  1.576168e-03  2.743464e-10  1.357522e-09  1.490806e-11  \n",
       "2     1.594180e-08  2.861927e-06  3.100115e-06  1.470771e-06  3.670280e-07  \n",
       "3     5.178439e-08  3.229228e-05  4.246706e-04  6.666692e-07  1.071326e-06  \n",
       "4     4.823867e-07  8.048660e-07  2.713440e-07  9.160684e-08  1.773886e-05  \n",
       "...            ...           ...           ...           ...           ...  \n",
       "9995  1.264516e-09  1.336204e-13  1.035866e-06  2.242661e-07  6.133793e-11  \n",
       "9996  3.468958e-07  4.812936e-09  1.045524e-05  1.316785e-07  7.093527e-07  \n",
       "9997  1.026005e-09  7.542097e-11  1.572429e-08  1.543164e-06  4.918705e-09  \n",
       "9998  9.985896e-01  1.214033e-05  6.537236e-06  1.261593e-03  2.771512e-07  \n",
       "9999  2.242313e-08  9.999897e-01  3.036772e-20  1.781138e-08  3.501334e-11  \n",
       "\n",
       "[10000 rows x 10 columns]"
      ]
     },
     "execution_count": 24,
     "metadata": {},
     "output_type": "execute_result"
    }
   ],
   "source": [
    "df_mean"
   ]
  },
  {
   "cell_type": "markdown",
   "metadata": {},
   "source": [
    "### T回予測の標準偏差"
   ]
  },
  {
   "cell_type": "code",
   "execution_count": 25,
   "metadata": {},
   "outputs": [
    {
     "data": {
      "text/html": [
       "<div>\n",
       "<style scoped>\n",
       "    .dataframe tbody tr th:only-of-type {\n",
       "        vertical-align: middle;\n",
       "    }\n",
       "\n",
       "    .dataframe tbody tr th {\n",
       "        vertical-align: top;\n",
       "    }\n",
       "\n",
       "    .dataframe thead th {\n",
       "        text-align: right;\n",
       "    }\n",
       "</style>\n",
       "<table border=\"1\" class=\"dataframe\">\n",
       "  <thead>\n",
       "    <tr style=\"text-align: right;\">\n",
       "      <th></th>\n",
       "      <th>std_0</th>\n",
       "      <th>std_1</th>\n",
       "      <th>std_2</th>\n",
       "      <th>std_3</th>\n",
       "      <th>std_4</th>\n",
       "      <th>std_5</th>\n",
       "      <th>std_6</th>\n",
       "      <th>std_7</th>\n",
       "      <th>std_8</th>\n",
       "      <th>std_9</th>\n",
       "    </tr>\n",
       "  </thead>\n",
       "  <tbody>\n",
       "    <tr>\n",
       "      <th>0</th>\n",
       "      <td>7.177158e-08</td>\n",
       "      <td>1.090514e-03</td>\n",
       "      <td>3.351214e-04</td>\n",
       "      <td>1.149561e-04</td>\n",
       "      <td>7.533506e-06</td>\n",
       "      <td>2.509313e-09</td>\n",
       "      <td>3.524217e-11</td>\n",
       "      <td>1.141136e-03</td>\n",
       "      <td>2.158583e-05</td>\n",
       "      <td>1.710695e-07</td>\n",
       "    </tr>\n",
       "    <tr>\n",
       "      <th>1</th>\n",
       "      <td>7.325626e-07</td>\n",
       "      <td>1.308905e-05</td>\n",
       "      <td>1.568180e-02</td>\n",
       "      <td>1.600250e-06</td>\n",
       "      <td>4.409924e-09</td>\n",
       "      <td>4.148887e-09</td>\n",
       "      <td>1.568196e-02</td>\n",
       "      <td>2.404564e-09</td>\n",
       "      <td>1.014347e-08</td>\n",
       "      <td>1.483097e-10</td>\n",
       "    </tr>\n",
       "    <tr>\n",
       "      <th>2</th>\n",
       "      <td>3.302700e-06</td>\n",
       "      <td>1.387005e-04</td>\n",
       "      <td>1.140488e-04</td>\n",
       "      <td>1.529171e-05</td>\n",
       "      <td>1.528878e-05</td>\n",
       "      <td>6.022007e-08</td>\n",
       "      <td>1.715544e-05</td>\n",
       "      <td>2.184767e-05</td>\n",
       "      <td>9.820454e-06</td>\n",
       "      <td>2.369417e-06</td>\n",
       "    </tr>\n",
       "    <tr>\n",
       "      <th>3</th>\n",
       "      <td>4.493651e-03</td>\n",
       "      <td>5.468335e-07</td>\n",
       "      <td>3.998135e-06</td>\n",
       "      <td>4.260931e-08</td>\n",
       "      <td>7.706532e-04</td>\n",
       "      <td>3.572509e-07</td>\n",
       "      <td>2.250480e-04</td>\n",
       "      <td>4.225213e-03</td>\n",
       "      <td>4.457177e-06</td>\n",
       "      <td>9.231734e-06</td>\n",
       "    </tr>\n",
       "    <tr>\n",
       "      <th>4</th>\n",
       "      <td>1.984744e-06</td>\n",
       "      <td>4.269951e-06</td>\n",
       "      <td>2.469265e-07</td>\n",
       "      <td>2.654356e-09</td>\n",
       "      <td>7.853687e-05</td>\n",
       "      <td>4.786582e-06</td>\n",
       "      <td>7.811524e-06</td>\n",
       "      <td>1.702316e-06</td>\n",
       "      <td>8.751697e-07</td>\n",
       "      <td>7.814361e-05</td>\n",
       "    </tr>\n",
       "    <tr>\n",
       "      <th>...</th>\n",
       "      <td>...</td>\n",
       "      <td>...</td>\n",
       "      <td>...</td>\n",
       "      <td>...</td>\n",
       "      <td>...</td>\n",
       "      <td>...</td>\n",
       "      <td>...</td>\n",
       "      <td>...</td>\n",
       "      <td>...</td>\n",
       "      <td>...</td>\n",
       "    </tr>\n",
       "    <tr>\n",
       "      <th>9995</th>\n",
       "      <td>5.542647e-11</td>\n",
       "      <td>1.060767e-05</td>\n",
       "      <td>1.558997e-04</td>\n",
       "      <td>1.449776e-04</td>\n",
       "      <td>6.461764e-10</td>\n",
       "      <td>1.258142e-08</td>\n",
       "      <td>8.585131e-13</td>\n",
       "      <td>9.763829e-06</td>\n",
       "      <td>1.386769e-06</td>\n",
       "      <td>6.102669e-10</td>\n",
       "    </tr>\n",
       "    <tr>\n",
       "      <th>9996</th>\n",
       "      <td>6.595891e-03</td>\n",
       "      <td>2.939661e-06</td>\n",
       "      <td>3.014285e-04</td>\n",
       "      <td>6.986601e-03</td>\n",
       "      <td>3.754935e-09</td>\n",
       "      <td>1.973287e-06</td>\n",
       "      <td>4.726671e-08</td>\n",
       "      <td>8.336550e-05</td>\n",
       "      <td>1.290167e-06</td>\n",
       "      <td>5.929767e-06</td>\n",
       "    </tr>\n",
       "    <tr>\n",
       "      <th>9997</th>\n",
       "      <td>2.247552e-12</td>\n",
       "      <td>3.875815e-07</td>\n",
       "      <td>3.970921e-11</td>\n",
       "      <td>2.452176e-14</td>\n",
       "      <td>1.535368e-05</td>\n",
       "      <td>6.830556e-09</td>\n",
       "      <td>6.273520e-10</td>\n",
       "      <td>1.370099e-07</td>\n",
       "      <td>1.534458e-05</td>\n",
       "      <td>3.042262e-08</td>\n",
       "    </tr>\n",
       "    <tr>\n",
       "      <th>9998</th>\n",
       "      <td>2.105148e-06</td>\n",
       "      <td>3.906674e-08</td>\n",
       "      <td>1.133380e-06</td>\n",
       "      <td>1.051121e-03</td>\n",
       "      <td>7.732505e-07</td>\n",
       "      <td>6.331091e-03</td>\n",
       "      <td>8.059621e-05</td>\n",
       "      <td>5.257220e-05</td>\n",
       "      <td>6.186307e-03</td>\n",
       "      <td>2.109883e-06</td>\n",
       "    </tr>\n",
       "    <tr>\n",
       "      <th>9999</th>\n",
       "      <td>2.303629e-07</td>\n",
       "      <td>4.672724e-08</td>\n",
       "      <td>1.020914e-04</td>\n",
       "      <td>4.973624e-10</td>\n",
       "      <td>2.405813e-08</td>\n",
       "      <td>1.525835e-07</td>\n",
       "      <td>1.025850e-04</td>\n",
       "      <td>3.019108e-19</td>\n",
       "      <td>1.764861e-07</td>\n",
       "      <td>3.480716e-10</td>\n",
       "    </tr>\n",
       "  </tbody>\n",
       "</table>\n",
       "<p>10000 rows × 10 columns</p>\n",
       "</div>"
      ],
      "text/plain": [
       "             std_0         std_1         std_2         std_3         std_4  \\\n",
       "0     7.177158e-08  1.090514e-03  3.351214e-04  1.149561e-04  7.533506e-06   \n",
       "1     7.325626e-07  1.308905e-05  1.568180e-02  1.600250e-06  4.409924e-09   \n",
       "2     3.302700e-06  1.387005e-04  1.140488e-04  1.529171e-05  1.528878e-05   \n",
       "3     4.493651e-03  5.468335e-07  3.998135e-06  4.260931e-08  7.706532e-04   \n",
       "4     1.984744e-06  4.269951e-06  2.469265e-07  2.654356e-09  7.853687e-05   \n",
       "...            ...           ...           ...           ...           ...   \n",
       "9995  5.542647e-11  1.060767e-05  1.558997e-04  1.449776e-04  6.461764e-10   \n",
       "9996  6.595891e-03  2.939661e-06  3.014285e-04  6.986601e-03  3.754935e-09   \n",
       "9997  2.247552e-12  3.875815e-07  3.970921e-11  2.452176e-14  1.535368e-05   \n",
       "9998  2.105148e-06  3.906674e-08  1.133380e-06  1.051121e-03  7.732505e-07   \n",
       "9999  2.303629e-07  4.672724e-08  1.020914e-04  4.973624e-10  2.405813e-08   \n",
       "\n",
       "             std_5         std_6         std_7         std_8         std_9  \n",
       "0     2.509313e-09  3.524217e-11  1.141136e-03  2.158583e-05  1.710695e-07  \n",
       "1     4.148887e-09  1.568196e-02  2.404564e-09  1.014347e-08  1.483097e-10  \n",
       "2     6.022007e-08  1.715544e-05  2.184767e-05  9.820454e-06  2.369417e-06  \n",
       "3     3.572509e-07  2.250480e-04  4.225213e-03  4.457177e-06  9.231734e-06  \n",
       "4     4.786582e-06  7.811524e-06  1.702316e-06  8.751697e-07  7.814361e-05  \n",
       "...            ...           ...           ...           ...           ...  \n",
       "9995  1.258142e-08  8.585131e-13  9.763829e-06  1.386769e-06  6.102669e-10  \n",
       "9996  1.973287e-06  4.726671e-08  8.336550e-05  1.290167e-06  5.929767e-06  \n",
       "9997  6.830556e-09  6.273520e-10  1.370099e-07  1.534458e-05  3.042262e-08  \n",
       "9998  6.331091e-03  8.059621e-05  5.257220e-05  6.186307e-03  2.109883e-06  \n",
       "9999  1.525835e-07  1.025850e-04  3.019108e-19  1.764861e-07  3.480716e-10  \n",
       "\n",
       "[10000 rows x 10 columns]"
      ]
     },
     "execution_count": 25,
     "metadata": {},
     "output_type": "execute_result"
    }
   ],
   "source": [
    "df_std"
   ]
  },
  {
   "cell_type": "markdown",
   "metadata": {},
   "source": [
    "### 上位3つの平均・標準偏差をまとめたDataFrame"
   ]
  },
  {
   "cell_type": "code",
   "execution_count": 26,
   "metadata": {
    "scrolled": true
   },
   "outputs": [
    {
     "data": {
      "text/plain": [
       "[      y_actual  y_pred      mean       std\n",
       " 0          7.0     7.0  0.999794  0.001141\n",
       " 1          2.0     2.0  0.998422  0.015682\n",
       " 2          1.0     1.0  0.999972  0.000139\n",
       " 3          0.0     0.0  0.999445  0.004494\n",
       " 4          4.0     4.0  0.999980  0.000079\n",
       " ...        ...     ...       ...       ...\n",
       " 9995       2.0     2.0  0.999983  0.000156\n",
       " 9996       3.0     3.0  0.999293  0.006987\n",
       " 9997       4.0     4.0  0.999998  0.000015\n",
       " 9998       5.0     5.0  0.998590  0.006331\n",
       " 9999       6.0     6.0  0.999990  0.000103\n",
       " \n",
       " [10000 rows x 4 columns],\n",
       "       y_actual  y_pred      mean       std\n",
       " 0          7.0     1.0  0.000111  0.001091\n",
       " 1          2.0     6.0  0.001576  0.015682\n",
       " 2          1.0     2.0  0.000016  0.000114\n",
       " 3          0.0     7.0  0.000425  0.004225\n",
       " 4          4.0     9.0  0.000018  0.000078\n",
       " ...        ...     ...       ...       ...\n",
       " 9995       2.0     3.0  0.000015  0.000145\n",
       " 9996       3.0     0.0  0.000663  0.006596\n",
       " 9997       4.0     8.0  0.000002  0.000015\n",
       " 9998       5.0     8.0  0.001262  0.006186\n",
       " 9999       6.0     2.0  0.000010  0.000102\n",
       " \n",
       " [10000 rows x 4 columns],\n",
       "       y_actual  y_pred          mean           std\n",
       " 0          7.0     2.0  7.029428e-05  3.351214e-04\n",
       " 1          2.0     1.0  1.492924e-06  1.308905e-05\n",
       " 2          1.0     7.0  3.100115e-06  2.184767e-05\n",
       " 3          0.0     4.0  9.574636e-05  7.706532e-04\n",
       " 4          4.0     6.0  8.048660e-07  7.811524e-06\n",
       " ...        ...     ...           ...           ...\n",
       " 9995       2.0     1.0  1.156493e-06  1.060767e-05\n",
       " 9996       3.0     2.0  3.209111e-05  3.014285e-04\n",
       " 9997       4.0     1.0  4.321490e-08  3.875815e-07\n",
       " 9998       5.0     3.0  1.293727e-04  1.051121e-03\n",
       " 9999       6.0     0.0  2.675121e-08  2.303629e-07\n",
       " \n",
       " [10000 rows x 4 columns]]"
      ]
     },
     "execution_count": 26,
     "metadata": {},
     "output_type": "execute_result"
    }
   ],
   "source": [
    "all_result = [pd.DataFrame(columns=[\"y_actual\", \"y_pred\", \"mean\", \"std\"]) for i in range(3)]\n",
    "\n",
    "for (i, row_mean), (i, row_std) in zip(df_mean.iterrows(), df_std.iterrows()):\n",
    "    arg_sort = np.argsort(row_mean)[::-1]\n",
    "    \n",
    "    for j in range(3):\n",
    "        all_result[j] = all_result[j].append({\n",
    "            \"y_actual\": np.argmax(y_test[i]),\n",
    "            \"y_pred\": arg_sort[j],\n",
    "            \"mean\": row_mean[arg_sort[j]],\n",
    "            \"std\": row_std[arg_sort[j]],\n",
    "        }, ignore_index=True)\n",
    "\n",
    "all_result"
   ]
  },
  {
   "cell_type": "markdown",
   "metadata": {},
   "source": [
    "### 標準偏差の高い順にソート"
   ]
  },
  {
   "cell_type": "code",
   "execution_count": 27,
   "metadata": {
    "scrolled": true
   },
   "outputs": [
    {
     "data": {
      "text/plain": [
       "[      y_actual  y_pred      mean       std\n",
       " 211        5.0     3.0  0.565096  0.453987\n",
       " 1549       4.0     6.0  0.571694  0.453175\n",
       " 6532       0.0     5.0  0.490599  0.435986\n",
       " 6574       2.0     2.0  0.503926  0.435510\n",
       " 9634       0.0     0.0  0.579819  0.431089\n",
       " ...        ...     ...       ...       ...\n",
       " 9718       4.0     4.0  1.000000  0.000000\n",
       " 6340       2.0     2.0  1.000000  0.000000\n",
       " 5472       3.0     3.0  1.000000  0.000000\n",
       " 6995       4.0     4.0  1.000000  0.000000\n",
       " 8754       4.0     4.0  1.000000  0.000000\n",
       " \n",
       " [10000 rows x 4 columns],\n",
       "       y_actual  y_pred          mean           std\n",
       " 211        5.0     5.0  3.789769e-01  4.401397e-01\n",
       " 1549       4.0     2.0  1.847860e-01  3.444583e-01\n",
       " 6532       0.0     0.0  4.650554e-01  4.296635e-01\n",
       " 6574       2.0     6.0  4.865462e-01  4.368237e-01\n",
       " 9634       0.0     1.0  2.497502e-01  3.795181e-01\n",
       " ...        ...     ...           ...           ...\n",
       " 9718       4.0     8.0  1.034059e-10  8.423484e-10\n",
       " 6340       2.0     3.0  1.314368e-11  1.302082e-10\n",
       " 5472       3.0     7.0  2.557348e-10  2.356573e-09\n",
       " 6995       4.0     9.0  7.483207e-10  4.435824e-09\n",
       " 8754       4.0     2.0  5.836789e-10  4.668635e-09\n",
       " \n",
       " [10000 rows x 4 columns],\n",
       "       y_actual  y_pred          mean           std\n",
       " 211        5.0     8.0  4.692249e-02  1.769061e-01\n",
       " 1549       4.0     4.0  1.783064e-01  3.319259e-01\n",
       " 6532       0.0     7.0  2.533162e-02  1.331957e-01\n",
       " 6574       2.0     3.0  7.430844e-03  7.378221e-02\n",
       " 9634       0.0     2.0  1.336900e-01  2.978983e-01\n",
       " ...        ...     ...           ...           ...\n",
       " 9718       4.0     6.0  8.034320e-11  7.988671e-10\n",
       " 6340       2.0     0.0  9.760403e-12  6.444738e-11\n",
       " 5472       3.0     1.0  2.527396e-10  2.451724e-09\n",
       " 6995       4.0     6.0  7.271933e-11  7.036473e-10\n",
       " 8754       4.0     5.0  3.513309e-10  2.445427e-09\n",
       " \n",
       " [10000 rows x 4 columns]]"
      ]
     },
     "execution_count": 27,
     "metadata": {},
     "output_type": "execute_result"
    }
   ],
   "source": [
    "all_result_order = []\n",
    "\n",
    "index_sort_std = all_result[0].sort_values(\"std\", ascending=False).index\n",
    "\n",
    "for i in range(3):\n",
    "    all_result_order.append(all_result[i].reindex(index=index_sort_std))\n",
    "\n",
    "all_result_order"
   ]
  },
  {
   "cell_type": "markdown",
   "metadata": {},
   "source": [
    "## 不確実性の高い画像 Top 5"
   ]
  },
  {
   "cell_type": "code",
   "execution_count": 47,
   "metadata": {
    "scrolled": false
   },
   "outputs": [
    {
     "data": {
      "image/png": "[encoded data removed]",
      "text/plain": [
       "<Figure size 288x216 with 2 Axes>"
      ]
     },
     "metadata": {
      "needs_background": "light"
     },
     "output_type": "display_data"
    },
    {
     "data": {
      "image/png": "[encoded data removed]",
      "text/plain": [
       "<Figure size 288x216 with 2 Axes>"
      ]
     },
     "metadata": {
      "needs_background": "light"
     },
     "output_type": "display_data"
    },
    {
     "data": {
      "image/png": "[encoded data removed]",
      "text/plain": [
       "<Figure size 288x216 with 2 Axes>"
      ]
     },
     "metadata": {
      "needs_background": "light"
     },
     "output_type": "display_data"
    },
    {
     "data": {
      "image/png": "[encoded data removed]",
      "text/plain": [
       "<Figure size 288x216 with 2 Axes>"
      ]
     },
     "metadata": {
      "needs_background": "light"
     },
     "output_type": "display_data"
    },
    {
     "data": {
      "image/png": "[encoded data removed]",
      "text/plain": [
       "<Figure size 288x216 with 2 Axes>"
      ]
     },
     "metadata": {
      "needs_background": "light"
     },
     "output_type": "display_data"
    }
   ],
   "source": [
    "n_top = 5\n",
    "\n",
    "for i, row in list(all_result_order[0].iterrows())[:n_top]:\n",
    "    plt.figure(figsize=(4, 3))\n",
    "    gs = gridspec.GridSpec(3, 4)\n",
    "    \n",
    "    plt.subplot(gs[:, :3])\n",
    "    plt.imshow(x_test[i])\n",
    "    plt.title(f\"Actual: {int(row['y_actual'])}\" + f\"    Predict: {int(row['y_pred'])}\")\n",
    "    plt.axis(\"off\")\n",
    "    \n",
    "    plt.subplot(gs[:, 3:])\n",
    "    X = np.arange(start=0, stop=1, step=0.01)\n",
    "    x = []\n",
    "    \n",
    "    # 上位3つの平均・標準偏差に基づいて正規分布からサンプリング（図示に用いる）\n",
    "    for j in range(3):\n",
    "        x.append(stats.norm.pdf(x=X, loc=all_result_order[j].at[i, \"mean\"], scale=all_result_order[j].at[i, \"std\"]))\n",
    "    \n",
    "    for j in list(range(3))[::-1]:\n",
    "        sns.heatmap(x[j].reshape(-1, 1), cmap=color_alpha[j], cbar = False, xticklabels=False, label=f\"no.\")\n",
    "    \n",
    "    plt.plot([], c=[c / 255. for c in color_set[0]], label=f\"{int(all_result_order[0].at[i, 'y_pred'])}\")\n",
    "    plt.plot([], c=[c / 255. for c in color_set[1]], label=f\"{int(all_result_order[1].at[i, 'y_pred'])}\")\n",
    "    plt.plot([], c=[c / 255. for c in color_set[2]], label=f\"{int(all_result_order[2].at[i, 'y_pred'])}\")\n",
    "\n",
    "    plt.gca().spines[:].set_visible(True)\n",
    "    plt.gca().invert_yaxis()\n",
    "    plt.gca().yaxis.tick_right()\n",
    "    plt.yticks(np.arange(0, 110, 20), [round(n, 1) for n in np.arange(0, 1.1, 0.2)], rotation=0)\n",
    "    plt.legend(bbox_to_anchor=(1.6, 0.5), loc='center left')\n",
    "    plt.show()"
   ]
  },
  {
   "cell_type": "markdown",
   "metadata": {},
   "source": [
    "#### 画像のみver"
   ]
  },
  {
   "cell_type": "code",
   "execution_count": 48,
   "metadata": {
    "scrolled": true
   },
   "outputs": [
    {
     "data": {
      "image/png": "[encoded data removed]",
      "text/plain": [
       "<Figure size 144x144 with 1 Axes>"
      ]
     },
     "metadata": {
      "needs_background": "light"
     },
     "output_type": "display_data"
    },
    {
     "data": {
      "image/png": "[encoded data removed]",
      "text/plain": [
       "<Figure size 144x144 with 1 Axes>"
      ]
     },
     "metadata": {
      "needs_background": "light"
     },
     "output_type": "display_data"
    },
    {
     "data": {
      "image/png": "[encoded data removed]",
      "text/plain": [
       "<Figure size 144x144 with 1 Axes>"
      ]
     },
     "metadata": {
      "needs_background": "light"
     },
     "output_type": "display_data"
    },
    {
     "data": {
      "image/png": "[encoded data removed]",
      "text/plain": [
       "<Figure size 144x144 with 1 Axes>"
      ]
     },
     "metadata": {
      "needs_background": "light"
     },
     "output_type": "display_data"
    },
    {
     "data": {
      "image/png": "[encoded data removed]",
      "text/plain": [
       "<Figure size 144x144 with 1 Axes>"
      ]
     },
     "metadata": {
      "needs_background": "light"
     },
     "output_type": "display_data"
    }
   ],
   "source": [
    "for i, row in list(all_result_order[0].iterrows())[:n_top]:\n",
    "    plt.figure(figsize=(2, 2))\n",
    "    plt.imshow(x_test[i])\n",
    "    plt.title(f\"Actual: {int(row['y_actual'])}\" + f\", Predict: {int(row['y_pred'])}\")\n",
    "    plt.axis(\"off\")\n",
    "    plt.show()"
   ]
  },
  {
   "cell_type": "markdown",
   "metadata": {},
   "source": [
    "## 予測分布の比較"
   ]
  },
  {
   "cell_type": "code",
   "execution_count": 53,
   "metadata": {
    "scrolled": false
   },
   "outputs": [
    {
     "data": {
      "image/png": "[encoded data removed]",
      "text/plain": [
       "<Figure size 288x216 with 2 Axes>"
      ]
     },
     "metadata": {
      "needs_background": "light"
     },
     "output_type": "display_data"
    },
    {
     "data": {
      "image/png": "[encoded data removed]",
      "text/plain": [
       "<Figure size 288x216 with 2 Axes>"
      ]
     },
     "metadata": {
      "needs_background": "light"
     },
     "output_type": "display_data"
    },
    {
     "data": {
      "image/png": "[encoded data removed]",
      "text/plain": [
       "<Figure size 288x216 with 2 Axes>"
      ]
     },
     "metadata": {
      "needs_background": "light"
     },
     "output_type": "display_data"
    },
    {
     "data": {
      "image/png": "[encoded data removed]",
      "text/plain": [
       "<Figure size 288x216 with 2 Axes>"
      ]
     },
     "metadata": {
      "needs_background": "light"
     },
     "output_type": "display_data"
    },
    {
     "data": {
      "image/png": "[encoded data removed]",
      "text/plain": [
       "<Figure size 288x216 with 2 Axes>"
      ]
     },
     "metadata": {
      "needs_background": "light"
     },
     "output_type": "display_data"
    }
   ],
   "source": [
    "X = np.arange(start=0, stop=1, step=0.01)\n",
    "\n",
    "# 比較のため適当に間隔をあけて図示\n",
    "for i in range(0, 1000, 200):\n",
    "    plt.figure(figsize=(4, 3))\n",
    "    gs = gridspec.GridSpec(3, 4)\n",
    "    \n",
    "    plt.subplot(gs[:, :3])\n",
    "    plt.imshow(x_test[i])\n",
    "    plt.title(f\"Actual: {int(all_result_order[0].at[i, 'y_actual'])}\" + f\"    Predict: {int(all_result_order[0].at[i, 'y_pred'])}\")\n",
    "    plt.axis(\"off\")\n",
    "    \n",
    "    plt.subplot(gs[:, 3:])\n",
    "    X = np.arange(start=0, stop=1, step=0.01)\n",
    "    x = []\n",
    "    \n",
    "    # 上位3つの平均・標準偏差に基づいて正規分布からサンプリング（図示に用いる）\n",
    "    for j in range(3):\n",
    "        x.append(stats.norm.pdf(x=X, loc=all_result_order[j].iloc[i][\"mean\"], scale=all_result_order[j].iloc[i][\"std\"]))\n",
    "    \n",
    "    for j in list(range(3))[::-1]:\n",
    "        sns.heatmap(x[j].reshape(-1, 1), cmap=color_alpha[j], cbar = False, xticklabels=False, label=f\"no.\")\n",
    "    \n",
    "    plt.plot([], c=[c / 255. for c in color_set[0]], label=f\"{int(all_result_order[0].at[i, 'y_pred'])}\")\n",
    "    plt.plot([], c=[c / 255. for c in color_set[1]], label=f\"{int(all_result_order[1].at[i, 'y_pred'])}\")\n",
    "    plt.plot([], c=[c / 255. for c in color_set[2]], label=f\"{int(all_result_order[2].at[i, 'y_pred'])}\")\n",
    "\n",
    "    plt.gca().spines[:].set_visible(True)\n",
    "    plt.gca().invert_yaxis()\n",
    "    plt.gca().yaxis.tick_right()\n",
    "    plt.yticks(np.arange(0, 110, 20), [round(n, 1) for n in np.arange(0, 1.1, 0.2)], rotation=0)\n",
    "    plt.legend(bbox_to_anchor=(1.6, 0.5), loc='center left')\n",
    "    plt.show()"
   ]
  },
  {
   "cell_type": "code",
   "execution_count": null,
   "metadata": {},
   "outputs": [],
   "source": []
  },
  {
   "cell_type": "code",
   "execution_count": null,
   "metadata": {},
   "outputs": [],
   "source": []
  }
 ],
 "metadata": {
  "accelerator": "GPU",
  "colab": {
   "collapsed_sections": [],
   "name": "MC-Dropout.ipynb",
   "provenance": []
  },
  "kernelspec": {
   "display_name": "Python 3 (ipykernel)",
   "language": "python",
   "name": "python3"
  },
  "language_info": {
   "codemirror_mode": {
    "name": "ipython",
    "version": 3
   },
   "file_extension": ".py",
   "mimetype": "text/x-python",
   "name": "python",
   "nbconvert_exporter": "python",
   "pygments_lexer": "ipython3",
   "version": "3.9.7"
  }
 },
 "nbformat": 4,
 "nbformat_minor": 4
}
